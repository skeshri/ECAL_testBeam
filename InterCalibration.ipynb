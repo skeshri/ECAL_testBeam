{
 "cells": [
  {
   "cell_type": "code",
   "execution_count": 1,
   "metadata": {},
   "outputs": [
    {
     "name": "stdout",
     "output_type": "stream",
     "text": [
      "Welcome to JupyROOT 6.26/08\n",
      "\n",
      "\u001b[1mRooFit v3.60 -- Developed by Wouter Verkerke and David Kirkby\u001b[0m \n",
      "                Copyright (C) 2000-2013 NIKHEF, University of California & Stanford University\n",
      "                All rights reserved, please read http://roofit.sourceforge.net/license.txt\n",
      "\n"
     ]
    }
   ],
   "source": [
    "import ROOT\n",
    "from ROOT import RooRealVar,RooCBShape,RooDataHist,RooArgList,RooFit\n",
    "import glob\n",
    "import os"
   ]
  },
  {
   "cell_type": "code",
   "execution_count": 24,
   "metadata": {},
   "outputs": [
    {
     "name": "stdout",
     "output_type": "stream",
     "text": [
      "108292\n"
     ]
    }
   ],
   "source": [
    "#/eos/cms/store/group/dpg_ecal/comm_ecal/upgrade/testbeam/ECALTB_H4_Oct2021/HighPurity/ntuples_fitVFEs/\n",
    "run=14982\n",
    "path=\"/eos/cms/store/group/dpg_ecal/comm_ecal/upgrade/testbeam/ECALTB_H4_Oct2021/HighPurity/ntuples_fitVFEs/%s/*\"%run\n",
    "#path\n",
    "allfiles_list = [f for f in glob.glob(path) if f.endswith(\".root\")]\n",
    "tree = ROOT.TChain(\"h4\")\n",
    "\n",
    "#entry=0\n",
    "for file in allfiles_list:\n",
    "    #print(file)\n",
    "    #fil=ROOT.TFile(file)\n",
    "    #test=fil.Get(\"h4\")\n",
    "    #entry+=test.GetEntries()\n",
    "    #print(test.GetEntries())\n",
    "    tree.Add(file)\n",
    "print(tree.GetEntries())\n",
    "#print(\"entry\",entry)\n",
    "#file = ROOT.TFile(\"/eos/cms/store/group/dpg_ecal/comm_ecal/upgrade/testbeam/ECALTB_H4_Oct2018/ntuples_v5/ECAL_H4_October2018_13376.root\")"
   ]
  },
  {
   "cell_type": "code",
   "execution_count": 14,
   "metadata": {},
   "outputs": [],
   "source": [
    "#allfiles_list"
   ]
  },
  {
   "cell_type": "code",
   "execution_count": 3,
   "metadata": {},
   "outputs": [],
   "source": []
  },
  {
   "cell_type": "code",
   "execution_count": 40,
   "metadata": {},
   "outputs": [
    {
     "data": {
      "text/plain": [
       "'\\nhtemp = ROOT.gPad.GetPrimitive(\"hhnew\")\\nxx, yy, zz = int(0), int(0), int(0)\\nhtemp.GetBinXYZ(htemp.GetMaximumBin(), xx,yy,zz);\\nprint (xx,yy)\\nprint (htemp.GetXaxis().GetBinCenter(21))\\nprint (htemp.GetYaxis().GetBinCenter(23))\\n'"
      ]
     },
     "execution_count": 40,
     "metadata": {},
     "output_type": "execute_result"
    },
    {
     "name": "stderr",
     "output_type": "stream",
     "text": [
      "Warning in <TCanvas::Constructor>: Deleting canvas with same name: c\n",
      "Warning in <TFile::Append>: Replacing existing TH1: hh (Potential memory leak).\n",
      "Warning in <TCanvas::Constructor>: Deleting canvas with same name: c2\n"
     ]
    },
    {
     "data": {
      "image/png": "[encoded data removed]",
      "text/plain": [
       "<IPython.core.display.Image object>"
      ]
     },
     "metadata": {},
     "output_type": "display_data"
    },
    {
     "data": {
      "image/png": "[encoded data removed]",
      "text/plain": [
       "<IPython.core.display.Image object>"
      ]
     },
     "metadata": {},
     "output_type": "display_data"
    }
   ],
   "source": [
    "c = ROOT.TCanvas(\"c\",\"c\",500,500)\n",
    "#tree.Draw(\"fit_ampl[C3]>>hh(50,0,1000)\",\"n_tracks==1\")\n",
    "#hh = ROOT.TH1F(\"hh\",\"hh\",50,4000,5500)\n",
    "#tree.Draw(\"fit_ampl[C2]>>hh\",\"n_tracks==1 && fabs(X+5.5)<3 && fabs(Y-7.5)<3\",\"\")\n",
    "hh = ROOT.TH1F(\"hh\",\"hh\",30,0,3000)\n",
    "#tree.Draw(\"fit_ampl[C2]>>hh\",\"n_tracks==1 && fabs(X+5.5)<4 && fabs(Y-7.5)<4\")\n",
    "tree.Draw(\"fit_ampl[C2]>>hh\",\"n_tracks==1\")\n",
    "c.Draw()\n",
    "\n",
    "c2 = ROOT.TCanvas(\"c2\",\"c2\",500,500)\n",
    "c2.cd()\n",
    "tree.Draw(\"fit_ampl[C3]:Y:X>>hhnew(30,-15,15,30,-15,15,0,1000)\",\"n_tracks==1\",\"PROFCOLZ\")\n",
    "c2.Draw()\n",
    "'''\n",
    "htemp = ROOT.gPad.GetPrimitive(\"hhnew\")\n",
    "xx, yy, zz = int(0), int(0), int(0)\n",
    "htemp.GetBinXYZ(htemp.GetMaximumBin(), xx,yy,zz);\n",
    "print (xx,yy)\n",
    "print (htemp.GetXaxis().GetBinCenter(21))\n",
    "print (htemp.GetYaxis().GetBinCenter(23))\n",
    "'''"
   ]
  },
  {
   "cell_type": "code",
   "execution_count": 42,
   "metadata": {
    "scrolled": true
   },
   "outputs": [
    {
     "name": "stdout",
     "output_type": "stream",
     "text": [
      "[#1] INFO:Minimization -- RooAbsMinimizerFcn::setOptimizeConst: activating const optimization\n",
      " **********\n",
      " **   11 **SET PRINT           1\n",
      " **********\n",
      " **********\n",
      " **   12 **SET NOGRAD\n",
      " **********\n",
      " PARAMETER DEFINITIONS:\n",
      "    NO.   NAME         VALUE      STEP SIZE      LIMITS\n",
      "     1 alpha_test   5.00000e-01  2.50000e-01    0.00000e+00  1.00000e+01\n",
      "     2 exp_test     7.00000e+00  3.50000e+00    0.00000e+00  1.50000e+02\n",
      "     3 mean_test    2.50000e+03  1.00000e+02    2.00000e+03  3.00000e+03\n",
      "     4 sigma_test   6.00000e+01  3.00000e+01    0.00000e+00  5.00000e+02\n",
      " **********\n",
      " **   13 **SET ERR         0.5\n",
      " **********\n",
      " **********\n",
      " **   14 **SET PRINT           1\n",
      " **********\n",
      " **********\n",
      " **   15 **SET STR           1\n",
      " **********\n",
      " NOW USING STRATEGY  1: TRY TO BALANCE SPEED AGAINST RELIABILITY\n",
      " **********\n",
      " **   16 **MIGRAD        2000           1\n",
      " **********\n",
      " FIRST CALL TO USER FUNCTION AT NEW START POINT, WITH IFLAG=4.\n",
      " START MIGRAD MINIMIZATION.  STRATEGY  1.  CONVERGENCE WHEN EDM .LT. 1.00e-03\n",
      " FCN=147997 FROM MIGRAD    STATUS=INITIATE       75 CALLS          76 TOTAL\n",
      "                     EDM= unknown      STRATEGY= 1      NO ERROR MATRIX       \n",
      "  EXT PARAMETER               CURRENT GUESS       STEP         FIRST   \n",
      "  NO.   NAME      VALUE            ERROR          SIZE      DERIVATIVE \n",
      "   1  alpha_test   5.00000e-01   2.50000e-01   0.00000e+00  -1.29195e+02\n",
      "   2  exp_test     4.04927e-01   3.50000e+00   0.00000e+00   2.47001e+04\n",
      "   3  mean_test    2.41341e+03   1.00000e+02  -1.74048e-01   1.08951e+01\n",
      "   4  sigma_test   6.00000e+01   3.00000e+01   0.00000e+00  -1.04078e+03\n",
      "                               ERR DEF= 0.5\n",
      " MIGRAD MINIMIZATION HAS CONVERGED.\n",
      " MIGRAD WILL VERIFY CONVERGENCE AND ERROR MATRIX.\n",
      " COVARIANCE MATRIX CALCULATED SUCCESSFULLY\n",
      " FCN=147221 FROM MIGRAD    STATUS=CONVERGED     222 CALLS         223 TOTAL\n",
      "                     EDM=7.77683e-06    STRATEGY= 1      ERROR MATRIX ACCURATE \n",
      "  EXT PARAMETER                                   STEP         FIRST   \n",
      "  NO.   NAME      VALUE            ERROR          SIZE      DERIVATIVE \n",
      "   1  alpha_test   2.44550e-01   1.31983e-02   8.15298e-04   5.08662e-02\n",
      "   2  exp_test     1.20400e+00   6.80131e-02   4.84214e-04  -2.91900e-01\n",
      "   3  mean_test    2.36156e+03   1.95667e+00   7.98567e-04  -2.93981e-01\n",
      "   4  sigma_test   9.16944e+01   1.46954e+00   1.47236e-03   1.84242e-01\n",
      "                               ERR DEF= 0.5\n",
      " EXTERNAL ERROR MATRIX.    NDIM=  25    NPAR=  4    ERR DEF=0.5\n",
      "  1.742e-04  8.169e-04 -5.026e-03 -5.498e-04 \n",
      "  8.169e-04  4.626e-03 -6.602e-04 -2.233e-02 \n",
      " -5.026e-03 -6.602e-04  3.829e+00 -1.795e+00 \n",
      " -5.498e-04 -2.233e-02 -1.795e+00  2.160e+00 \n",
      " PARAMETER  CORRELATION COEFFICIENTS  \n",
      "       NO.  GLOBAL      1      2      3      4\n",
      "        1  0.93268   1.000  0.910 -0.195 -0.028\n",
      "        2  0.93339   0.910  1.000 -0.005 -0.223\n",
      "        3  0.67228  -0.195 -0.005  1.000 -0.624\n",
      "        4  0.68137  -0.028 -0.223 -0.624  1.000\n",
      " **********\n",
      " **   17 **SET ERR         0.5\n",
      " **********\n",
      " **********\n",
      " **   18 **SET PRINT           1\n",
      " **********\n",
      " **********\n",
      " **   19 **HESSE        2000\n",
      " **********\n",
      " COVARIANCE MATRIX CALCULATED SUCCESSFULLY\n",
      " FCN=147221 FROM HESSE     STATUS=OK             23 CALLS         246 TOTAL\n",
      "                     EDM=7.96214e-06    STRATEGY= 1      ERROR MATRIX ACCURATE \n",
      "  EXT PARAMETER                                INTERNAL      INTERNAL  \n",
      "  NO.   NAME      VALUE            ERROR       STEP SIZE       VALUE   \n",
      "   1  alpha_test   2.44550e-01   1.31666e-02   3.26119e-05  -1.25675e+00\n",
      "   2  exp_test     1.20400e+00   6.79961e-02   1.93686e-05  -1.75022e+00\n",
      "   3  mean_test    2.36156e+03   1.96843e+00   1.59713e-04  -2.80540e-01\n",
      "   4  sigma_test   9.16944e+01   1.48198e+00   5.88945e-05  -6.85710e-01\n",
      "                               ERR DEF= 0.5\n",
      " EXTERNAL ERROR MATRIX.    NDIM=  25    NPAR=  4    ERR DEF=0.5\n",
      "  1.734e-04  8.140e-04 -4.891e-03 -6.931e-04 \n",
      "  8.140e-04  4.624e-03  5.342e-04 -2.353e-02 \n",
      " -4.891e-03  5.342e-04  3.875e+00 -1.838e+00 \n",
      " -6.931e-04 -2.353e-02 -1.838e+00  2.196e+00 \n",
      " PARAMETER  CORRELATION COEFFICIENTS  \n",
      "       NO.  GLOBAL      1      2      3      4\n",
      "        1  0.93234   1.000  0.909 -0.189 -0.036\n",
      "        2  0.93335   0.909  1.000  0.004 -0.233\n",
      "        3  0.67712  -0.189  0.004  1.000 -0.630\n",
      "        4  0.68791  -0.036 -0.233 -0.630  1.000\n",
      "[#1] INFO:Minimization -- RooAbsMinimizerFcn::setOptimizeConst: deactivating const optimization\n",
      "\n",
      "  RooFitResult: minimized FCN value: 147221, estimated distance to minimum: 7.96214e-06\n",
      "                covariance matrix quality: Full, accurate covariance matrix\n",
      "                Status : MINIMIZE=0 HESSE=0 \n",
      "\n",
      "    Floating Parameter    FinalValue +/-  Error   \n",
      "  --------------------  --------------------------\n",
      "            alpha_test    2.4455e-01 +/-  1.32e-02\n",
      "              exp_test    1.2040e+00 +/-  6.80e-02\n",
      "             mean_test    2.3616e+03 +/-  1.97e+00\n",
      "            sigma_test    9.1694e+01 +/-  1.48e+00\n",
      "\n"
     ]
    },
    {
     "name": "stderr",
     "output_type": "stream",
     "text": [
      "Warning in <TCanvas::Constructor>: Deleting canvas with same name: cfit\n"
     ]
    },
    {
     "data": {
      "image/png": "[encoded data removed]",
      "text/plain": [
       "<IPython.core.display.Image object>"
      ]
     },
     "metadata": {},
     "output_type": "display_data"
    }
   ],
   "source": [
    "C ='test'\n",
    "x  = RooRealVar(\"fit_ampl_%s\"%C,\"fit_ampl_%s\"%C,0,3000)\n",
    "roohist = RooDataHist(\"roohist_fit_%s\"%C,\"roohist_fit_%s\"%C,RooArgList(x),hh)\n",
    "\n",
    "m  = RooRealVar(\"mean_%s\"%C,\"mean_%s\"%C,2500,2000,3000)\n",
    "s  = RooRealVar(\"sigma_%s\"%C,\"sigma_%s\"%C,60,0,500)\n",
    "a  = RooRealVar(\"alpha_%s\"%C,\"alpha_%s\"%C,0.5,0,10)\n",
    "n  = RooRealVar(\"exp_%s\"%C,\"exp_%s\"%C,7,0,150)\n",
    "sig = RooCBShape(\"signal_%s\"%C,\"signal_%s\"%C,x,m,s,a,n)\n",
    "\n",
    "res = sig.fitTo(roohist,RooFit.Save())\n",
    "res.Print()\n",
    "\n",
    "canvas = ROOT.TCanvas(\"cfit\",\"cfit\",500,500)\n",
    "frame = x.frame()\n",
    "roohist.plotOn(frame,RooFit.Name(\"roohist_test\"))\n",
    "sig.plotOn(frame,RooFit.Name(\"signal_test\"))\n",
    "frame.Draw()\n",
    "canvas.Draw()"
   ]
  },
  {
   "cell_type": "code",
   "execution_count": 44,
   "metadata": {},
   "outputs": [
    {
     "name": "stdout",
     "output_type": "stream",
     "text": [
      "Reduced chi2 :  64.13163642093576\n"
     ]
    }
   ],
   "source": [
    "print ('Reduced chi2 : ',frame.chiSquare(\"signal_test\",\"roohist_test\",4)) # 4 = nFitParameters from CB"
   ]
  },
  {
   "cell_type": "code",
   "execution_count": 46,
   "metadata": {},
   "outputs": [
    {
     "name": "stdout",
     "output_type": "stream",
     "text": [
      "results :\n",
      "mean = 2361.56\n",
      "sigma = 91.69\n",
      "n = 1.20\n",
      "alpha = 0.24\n"
     ]
    }
   ],
   "source": [
    "print ('results :')\n",
    "print ('mean = %.2f'%m.getVal())\n",
    "print ('sigma = %.2f'%s.getVal())\n",
    "print ('n = %.2f'%n.getVal())\n",
    "print ('alpha = %.2f'%a.getVal())"
   ]
  },
  {
   "cell_type": "code",
   "execution_count": 44,
   "metadata": {},
   "outputs": [
    {
     "ename": "AttributeError",
     "evalue": "'PyROOT_NoneType' object has no attribute 'Draw'",
     "output_type": "error",
     "traceback": [
      "\u001b[0;31m\u001b[0m",
      "\u001b[0;31mAttributeError\u001b[0mTraceback (most recent call last)",
      "\u001b[0;32m<ipython-input-44-74b4fb1e7b1f>\u001b[0m in \u001b[0;36m<module>\u001b[0;34m()\u001b[0m\n\u001b[1;32m      3\u001b[0m \u001b[0mtree\u001b[0m\u001b[0;34m.\u001b[0m\u001b[0mDraw\u001b[0m\u001b[0;34m(\u001b[0m\u001b[0;34m\"fit_ampl[C3]:Y:X >> hhnew\"\u001b[0m\u001b[0;34m,\u001b[0m\u001b[0;34m\"n_tracks==1\"\u001b[0m\u001b[0;34m,\u001b[0m\u001b[0;34m\"PROFCOLZ\"\u001b[0m\u001b[0;34m)\u001b[0m\u001b[0;34m\u001b[0m\u001b[0m\n\u001b[1;32m      4\u001b[0m \u001b[0;31m#tree.Draw(\"fit_ampl[C3]:Y:X>>hh2(30,-15,15,30,-15,15,0,10000)\",\"n_tracks==1\",\"PROFCOLZ\")\u001b[0m\u001b[0;34m\u001b[0m\u001b[0;34m\u001b[0m\u001b[0m\n\u001b[0;32m----> 5\u001b[0;31m \u001b[0mhist2d\u001b[0m\u001b[0;34m.\u001b[0m\u001b[0mDraw\u001b[0m\u001b[0;34m(\u001b[0m\u001b[0;34m\"PROFCOLZ\"\u001b[0m\u001b[0;34m)\u001b[0m\u001b[0;34m\u001b[0m\u001b[0m\n\u001b[0m\u001b[1;32m      6\u001b[0m \u001b[0mc\u001b[0m\u001b[0;34m.\u001b[0m\u001b[0mDraw\u001b[0m\u001b[0;34m(\u001b[0m\u001b[0;34m)\u001b[0m\u001b[0;34m\u001b[0m\u001b[0m\n\u001b[1;32m      7\u001b[0m \u001b[0;31m#htemp = ROOT.gPad.GetPrimitive(\"hhnew\")\u001b[0m\u001b[0;34m\u001b[0m\u001b[0;34m\u001b[0m\u001b[0m\n",
      "\u001b[0;31mAttributeError\u001b[0m: 'PyROOT_NoneType' object has no attribute 'Draw'"
     ]
    },
    {
     "name": "stderr",
     "output_type": "stream",
     "text": [
      "Warning in <TSelectorDraw::Begin>: Deleting old histogram with different dimensions\n"
     ]
    }
   ],
   "source": []
  },
  {
   "cell_type": "code",
   "execution_count": 16,
   "metadata": {},
   "outputs": [
    {
     "data": {
      "text/plain": [
       "<ROOT.TH1F object (\"hh\") at 0x8b64c50>"
      ]
     },
     "execution_count": 16,
     "metadata": {},
     "output_type": "execute_result"
    }
   ],
   "source": []
  },
  {
   "cell_type": "code",
   "execution_count": null,
   "metadata": {},
   "outputs": [],
   "source": []
  }
 ],
 "metadata": {
  "kernelspec": {
   "display_name": "Python 3",
   "language": "python",
   "name": "python3"
  },
  "language_info": {
   "codemirror_mode": {
    "name": "ipython",
    "version": 3
   },
   "file_extension": ".py",
   "mimetype": "text/x-python",
   "name": "python",
   "nbconvert_exporter": "python",
   "pygments_lexer": "ipython3",
   "version": "3.9.12"
  }
 },
 "nbformat": 4,
 "nbformat_minor": 2
}
